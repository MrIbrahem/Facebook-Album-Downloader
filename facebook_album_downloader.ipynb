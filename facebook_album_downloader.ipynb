{
  "cells": [
    {
      "cell_type": "markdown",
      "metadata": {
        "colab_type": "text",
        "id": "view-in-github"
      },
      "source": [
        "<a href=\"https://colab.research.google.com/github/MrIbrahem/Facebook-Album-Downloader/blob/update/facebook_album_downloader.ipynb\" target=\"_parent\"><img src=\"https://colab.research.google.com/assets/colab-badge.svg\" alt=\"Open In Colab\"/></a>"
      ]
    },
    {
      "cell_type": "code",
      "execution_count": null,
      "metadata": {
        "id": "P3fDyQZNtzTe"
      },
      "outputs": [],
      "source": [
        "# prompt: clone https://github.com/MrIbrahem/facebook-album-downloader to folder fb\n",
        "!rm -rf fb\n",
        "!git clone https://github.com/MrIbrahem/facebook-album-downloader fb\n",
        "!pip install -r fb/requirements.in"
      ]
    },
    {
      "cell_type": "code",
      "execution_count": null,
      "metadata": {
        "id": "GZ4g0HW0t1_N"
      },
      "outputs": [],
      "source": [
        "# prompt: download and unzip \"http://chromedriver.storage.googleapis.com/2.20/chromedriver_win32.zip\" to folder fb\n",
        "\n",
        "!wget http://chromedriver.storage.googleapis.com/2.20/chromedriver_win32.zip\n",
        "!unzip chromedriver_win32.zip -d fb\n",
        "! rm chromedriver_win32.zip"
      ]
    },
    {
      "cell_type": "code",
      "execution_count": null,
      "metadata": {
        "colab": {
          "base_uri": "https://localhost:8080/"
        },
        "id": "FUhHIQPNuZu3",
        "outputId": "27297770-2a89-4b4f-e005-3b523a1d2d02"
      },
      "outputs": [],
      "source": [
        "! python3 fb/download_album.py"
      ]
    }
  ],
  "metadata": {
    "colab": {
      "authorship_tag": "ABX9TyP6YGXpDaltAUf2ZxMV0Chw",
      "include_colab_link": true,
      "provenance": []
    },
    "kernelspec": {
      "display_name": "Python 3",
      "name": "python3"
    },
    "language_info": {
      "name": "python"
    }
  },
  "nbformat": 4,
  "nbformat_minor": 0
}
