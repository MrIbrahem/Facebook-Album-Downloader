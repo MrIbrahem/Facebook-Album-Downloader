{
  "nbformat": 4,
  "nbformat_minor": 0,
  "metadata": {
    "colab": {
      "provenance": [],
      "authorship_tag": "ABX9TyP6YGXpDaltAUf2ZxMV0Chw",
      "include_colab_link": true
    },
    "kernelspec": {
      "name": "python3",
      "display_name": "Python 3"
    },
    "language_info": {
      "name": "python"
    }
  },
  "cells": [
    {
      "cell_type": "markdown",
      "metadata": {
        "id": "view-in-github",
        "colab_type": "text"
      },
      "source": [
        "<a href=\"https://colab.research.google.com/github/MrIbrahem/Facebook-Album-Downloader/blob/update/facebook_album_downloader.ipynb\" target=\"_parent\"><img src=\"https://colab.research.google.com/assets/colab-badge.svg\" alt=\"Open In Colab\"/></a>"
      ]
    },
    {
      "cell_type": "code",
      "source": [
        "# prompt: clone https://github.com/MrIbrahem/facebook-album-downloader to folder fb\n",
        "! rm -rf fb\n",
        "!git clone https://github.com/MrIbrahem/facebook-album-downloader fb"
      ],
      "metadata": {
        "id": "P3fDyQZNtzTe"
      },
      "execution_count": null,
      "outputs": []
    },
    {
      "cell_type": "code",
      "source": [
        "# prompt: download and unzip \"http://chromedriver.storage.googleapis.com/2.20/chromedriver_win32.zip\" to folder fb\n",
        "\n",
        "!wget http://chromedriver.storage.googleapis.com/2.20/chromedriver_win32.zip\n",
        "!unzip chromedriver_win32.zip -d fb\n",
        "! rm chromedriver_win32.zip"
      ],
      "metadata": {
        "id": "GZ4g0HW0t1_N"
      },
      "execution_count": null,
      "outputs": []
    },
    {
      "cell_type": "code",
      "source": [
        "! python3 fb/download_album.py"
      ],
      "metadata": {
        "id": "FUhHIQPNuZu3",
        "outputId": "27297770-2a89-4b4f-e005-3b523a1d2d02",
        "colab": {
          "base_uri": "https://localhost:8080/"
        }
      },
      "execution_count": 7,
      "outputs": [
        {
          "output_type": "stream",
          "name": "stdout",
          "text": [
            "  File \"/content/fb/download_album.py\", line 39\n",
            "    print \"[chromedriver.exe not found in directory! It must be in this folder and named chromedriver.exe]\"\n",
            "    ^^^^^^^^^^^^^^^^^^^^^^^^^^^^^^^^^^^^^^^^^^^^^^^^^^^^^^^^^^^^^^^^^^^^^^^^^^^^^^^^^^^^^^^^^^^^^^^^^^^^^^^\n",
            "SyntaxError: Missing parentheses in call to 'print'. Did you mean print(...)?\n"
          ]
        }
      ]
    }
  ]
}